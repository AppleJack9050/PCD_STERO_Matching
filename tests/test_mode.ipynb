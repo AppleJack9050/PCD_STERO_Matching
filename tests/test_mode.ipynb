{
 "cells": [
  {
   "cell_type": "code",
   "execution_count": 1,
   "metadata": {},
   "outputs": [],
   "source": [
    "import os\n",
    "import os.path as osp\n",
    "import sys\n",
    "\n",
    "current_dir = os.getcwd()\n",
    "parent_dir = os.path.abspath(os.path.join(os.path.dirname(current_dir)))\n",
    "sys.path.append(parent_dir)\n",
    "from src.data.utils import *\n",
    "from models.backbone.resnet_img import ResNetFPN_4_1"
   ]
  },
  {
   "cell_type": "code",
   "execution_count": 10,
   "metadata": {},
   "outputs": [],
   "source": [
    "config = {}\n",
    "config['initial_dim'] = 128\n",
    "config['block_dims'] = [128, 196, 256]\n",
    "\n",
    "model_resnet = ResNetFPN_4_1(config)\n",
    "data = torch.randn(1, 3, 640, 480)\n",
    "img_c, img_f = model_resnet(data)"
   ]
  },
  {
   "cell_type": "code",
   "execution_count": 13,
   "metadata": {},
   "outputs": [
    {
     "name": "stdout",
     "output_type": "stream",
     "text": [
      "Original shape torch.Size([1, 3, 640, 480]) \n",
      " Coarse img feat shape torch.Size([1, 128, 640, 480]) \n",
      " Fine img feat shape torch.Size([1, 256, 160, 120])\n"
     ]
    }
   ],
   "source": [
    "print('Original shape', data.shape, '\\n',\n",
    "      'Coarse img feat shape', img_c.shape, '\\n',\n",
    "      'Fine img feat shape', img_f.shape)"
   ]
  }
 ],
 "metadata": {
  "kernelspec": {
   "display_name": "Python 3",
   "language": "python",
   "name": "python3"
  },
  "language_info": {
   "codemirror_mode": {
    "name": "ipython",
    "version": 3
   },
   "file_extension": ".py",
   "mimetype": "text/x-python",
   "name": "python",
   "nbconvert_exporter": "python",
   "pygments_lexer": "ipython3",
   "version": "3.12.9"
  }
 },
 "nbformat": 4,
 "nbformat_minor": 2
}
