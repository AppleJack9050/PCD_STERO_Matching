{
 "cells": [
  {
   "cell_type": "code",
   "execution_count": 2,
   "metadata": {},
   "outputs": [],
   "source": [
    "import sys\n",
    "import os\n",
    "import os.path as osp\n",
    "\n",
    "current_dir = os.getcwd()\n",
    "parent_dir = os.path.abspath(os.path.join(os.path.dirname(current_dir)))\n",
    "sys.path.append(parent_dir)\n",
    "from src.data.utils import *"
   ]
  },
  {
   "cell_type": "code",
   "execution_count": 5,
   "metadata": {},
   "outputs": [],
   "source": [
    "root_dir = r'C:\\Users\\ShipM\\Downloads\\courtyard_dslr_undistorted\\courtyard'"
   ]
  },
  {
   "cell_type": "code",
   "execution_count": 6,
   "metadata": {},
   "outputs": [],
   "source": [
    "pose_df = extract_pose(osp.join(root_dir, 'dslr_calibration_undistorted', 'images.txt'))\n",
    "cam_df = extract_cam(osp.join(root_dir, 'dslr_calibration_undistorted', 'cameras.txt'))"
   ]
  },
  {
   "cell_type": "code",
   "execution_count": 15,
   "metadata": {},
   "outputs": [],
   "source": [
    "img_pose = pose_df.loc['DSC_0316.JPG', ['QW', 'QX', 'QY', 'QZ', 'TX', 'TY', 'TZ']].to_numpy()\n",
    "# Extract camera intrinsic parameters (fx, fy, cx, cy) using the CameraID from the pose data.\n",
    "cam_param = cam_df.loc[pose_df.loc['DSC_0316.JPG']['CAMERA_ID'], ['fx', 'fy', 'cx', 'cy']].to_numpy()"
   ]
  },
  {
   "cell_type": "code",
   "execution_count": 19,
   "metadata": {},
   "outputs": [
    {
     "data": {
      "text/plain": [
       "(4,)"
      ]
     },
     "execution_count": 19,
     "metadata": {},
     "output_type": "execute_result"
    }
   ],
   "source": [
    "cam_param.shape"
   ]
  }
 ],
 "metadata": {
  "kernelspec": {
   "display_name": "Python 3",
   "language": "python",
   "name": "python3"
  },
  "language_info": {
   "codemirror_mode": {
    "name": "ipython",
    "version": 3
   },
   "file_extension": ".py",
   "mimetype": "text/x-python",
   "name": "python",
   "nbconvert_exporter": "python",
   "pygments_lexer": "ipython3",
   "version": "3.12.9"
  }
 },
 "nbformat": 4,
 "nbformat_minor": 2
}
